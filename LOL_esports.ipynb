{
 "cells": [
  {
   "cell_type": "markdown",
   "id": "83374629",
   "metadata": {},
   "source": [
    "# Match Winner Prediction - LOL Esports"
   ]
  },
  {
   "cell_type": "code",
   "execution_count": 1,
   "id": "b01875ac",
   "metadata": {},
   "outputs": [],
   "source": [
    "import os\n",
    "import pandas as pd"
   ]
  },
  {
   "cell_type": "code",
   "execution_count": 2,
   "id": "9286b4a4",
   "metadata": {},
   "outputs": [],
   "source": [
    "# folder_path = \"data/\"\n",
    "\n",
    "# years_data = [os.path.join(folder_path, file) for file in os.listdir(folder_path) if file.endswith(\".csv\")]\n",
    "\n",
    "# dataframes = [pd.read_csv(year_data) for year_data in years_data]\n",
    "\n",
    "# # concatenate all df\n",
    "# original_df = pd.concat(dataframes, ignore_index=True)"
   ]
  },
  {
   "cell_type": "code",
   "execution_count": 3,
   "id": "3a2f5c5d",
   "metadata": {},
   "outputs": [],
   "source": [
    "# # drop in-game stats and useless Ids\n",
    "# features_to_keep = [\"gameid\", \"league\", \"year\", \"date\",\"split\", \"playoffs\", \"patch\", \"side\", \"position\", \"playername\", \"teamname\", \"champion\", \n",
    "#                     \"ban1\", \"ban2\", \"ban3\", \"ban4\", \"ban5\", \"pick1\", \"pick2\", \"pick3\", \"pick4\", \"pick5\", \"result\"]\n",
    "\n",
    "# df = original_df[features_to_keep]"
   ]
  },
  {
   "cell_type": "code",
   "execution_count": 4,
   "id": "d6e2530f",
   "metadata": {},
   "outputs": [],
   "source": [
    "# df.info()"
   ]
  },
  {
   "cell_type": "code",
   "execution_count": 5,
   "id": "d19b17af",
   "metadata": {},
   "outputs": [],
   "source": [
    "# display(df.head(12))\n",
    "# print(f\"df after droping features : {df.shape}\")"
   ]
  },
  {
   "cell_type": "markdown",
   "id": "77d2d1dd",
   "metadata": {},
   "source": [
    "## Restructuring the dataFrame."
   ]
  },
  {
   "cell_type": "code",
   "execution_count": 6,
   "id": "dbb32237",
   "metadata": {},
   "outputs": [],
   "source": [
    "# # get team rows and player rows.\n",
    "# team_df = df[df['position'] == 'team'].copy()    # team's info (picks/ban)\n",
    "# player_df = df[df['position'] != 'team'].copy()    # player's info (name, pisition, ...)\n",
    "\n",
    "# # pivot\n",
    "# role_mapping = {\n",
    "#     'top': 'top_player',\n",
    "#     'jng': 'jgl_player',\n",
    "#     'mid': 'mid_player',\n",
    "#     'bot': 'bot_player',\n",
    "#     'sup': 'supp_player'\n",
    "# }\n",
    "\n",
    "# # for blue:\n",
    "# blue_players = player_df[player_df['side'] == 'Blue']\n",
    "# blue_players_pivot = blue_players.pivot(index='gameid', columns='position', values='playername')\n",
    "# # se the role mapping to pivot.\n",
    "# blue_players_pivot = blue_players_pivot.rename(columns=role_mapping).reset_index()\n",
    "# # add prefix blue_\n",
    "# blue_players_pivot = blue_players_pivot.rename(\n",
    "#     columns=lambda c: (\"blue_\" + c) if c != \"gameid\" else c\n",
    "# )\n",
    "\n",
    "# # same for red:\n",
    "# red_players = player_df[player_df['side'] == 'Red']\n",
    "# red_players_pivot = red_players.pivot(index='gameid', columns='position', values='playername')\n",
    "# red_players_pivot = red_players_pivot.rename(columns=role_mapping).reset_index()\n",
    "# red_players_pivot = red_players_pivot.rename(\n",
    "#     columns=lambda c: (\"red_\" + c) if c != \"gameid\" else c\n",
    "# )\n",
    "\n",
    "# # process team rows to extract aggregated team data (picks, bans, ...).\n",
    "# # For Blue team:\n",
    "# teams_blue = team_df[team_df['side'] == 'Blue'][[\n",
    "#     'gameid', 'teamname',\n",
    "#     'pick1', 'pick2', 'pick3', 'pick4', 'pick5',\n",
    "#     'ban1', 'ban2', 'ban3', 'ban4', 'ban5'\n",
    "# ]].rename(columns={\n",
    "#     'teamname': 'blue_team',\n",
    "#     'pick1': 'blue_team_pick1',\n",
    "#     'pick2': 'blue_team_pick2',\n",
    "#     'pick3': 'blue_team_pick3',\n",
    "#     'pick4': 'blue_team_pick4',\n",
    "#     'pick5': 'blue_team_pick5',\n",
    "#     'ban1': 'blue_team_ban1',\n",
    "#     'ban2': 'blue_team_ban2',\n",
    "#     'ban3': 'blue_team_ban3',\n",
    "#     'ban4': 'blue_team_ban4',\n",
    "#     'ban5': 'blue_team_ban5'\n",
    "# })\n",
    "\n",
    "# # same for red team:\n",
    "# teams_red = team_df[team_df['side'] == 'Red'][[\n",
    "#     'gameid', 'teamname',\n",
    "#     'pick1', 'pick2', 'pick3', 'pick4', 'pick5',\n",
    "#     'ban1', 'ban2', 'ban3', 'ban4', 'ban5'\n",
    "# ]].rename(columns={\n",
    "#     'teamname': 'red_team',\n",
    "#     'pick1': 'red_team_pick1',\n",
    "#     'pick2': 'red_team_pick2',\n",
    "#     'pick3': 'red_team_pick3',\n",
    "#     'pick4': 'red_team_pick4',\n",
    "#     'pick5': 'red_team_pick5',\n",
    "#     'ban1': 'red_team_ban1',\n",
    "#     'ban2': 'red_team_ban2',\n",
    "#     'ban3': 'red_team_ban3',\n",
    "#     'ban4': 'red_team_ban4',\n",
    "#     'ban5': 'red_team_ban5'\n",
    "# })\n",
    "\n",
    "# # extract game data ( including 'date' to sort after).\n",
    "# game_info_columns = ['gameid', 'league', 'year', 'split', 'patch', 'playoffs', 'date']\n",
    "# game_info = team_df[game_info_columns].drop_duplicates('gameid')\n",
    "\n",
    "# # merge all parts together based on 'gameid'.\n",
    "# merged_df = game_info.merge(teams_blue, on='gameid')\\\n",
    "#                      .merge(teams_red, on='gameid')\\\n",
    "#                      .merge(blue_players_pivot, on='gameid')\\\n",
    "#                      .merge(red_players_pivot, on='gameid')\n",
    "\n",
    "# # determine the winner. (1 if blue is winner, 0 else)\n",
    "# blue_result = team_df[team_df['side'] == 'Blue'][['gameid', 'result']].rename(columns={'result': 'is_blue_winner'})\n",
    "\n",
    "# # merge winner results on games (gameid is deterministic here (can use date ig))\n",
    "# merged_df = merged_df.merge(blue_result, on='gameid')\n",
    "\n",
    "# # lastly we sort on 'date' (might be helpful to compute chornological related features like winrate and gamesPlayed)\n",
    "# merged_df = merged_df.sort_values(\"date\").reset_index(drop=True)\n"
   ]
  },
  {
   "cell_type": "code",
   "execution_count": 7,
   "id": "5736a343",
   "metadata": {},
   "outputs": [],
   "source": [
    "# display(merged_df.head())"
   ]
  },
  {
   "cell_type": "markdown",
   "id": "4cb62f33",
   "metadata": {},
   "source": [
    "how many missing are there for each feature ? (percentage)"
   ]
  },
  {
   "cell_type": "code",
   "execution_count": 8,
   "id": "7978de4c",
   "metadata": {},
   "outputs": [],
   "source": [
    "# # missing values per feature\n",
    "# na_percentage = merged_df.isnull().mean()\n",
    "# display(na_percentage)"
   ]
  },
  {
   "cell_type": "markdown",
   "id": "b2c11051",
   "metadata": {},
   "source": [
    "#### For the low percetange missing values, we will just drop the rows containing them, but we can't for high percentages.\n"
   ]
  },
  {
   "cell_type": "markdown",
   "id": "a0aa999e",
   "metadata": {},
   "source": [
    "Let's get the features with very few missing values (less than a threshold we can chose) so we can just drop the corresponding rows. "
   ]
  },
  {
   "cell_type": "code",
   "execution_count": 9,
   "id": "1cf648c4",
   "metadata": {},
   "outputs": [],
   "source": [
    "# features_less_than_threshold = 0.05 # 5%\n",
    "\n",
    "# features_less_than_threshold = na_percentage[(na_percentage < 0.05) & (na_percentage != 0)].index.tolist()\n",
    "\n",
    "# print(features_less_than_threshold)"
   ]
  },
  {
   "cell_type": "code",
   "execution_count": 10,
   "id": "74b886f2",
   "metadata": {},
   "outputs": [],
   "source": [
    "# # now we drop rows that have missing values in any of these selected features\n",
    "# merged_df = merged_df.dropna(subset=features_less_than_threshold)"
   ]
  },
  {
   "cell_type": "markdown",
   "id": "4e5d9a1c",
   "metadata": {},
   "source": [
    "no more features with small missing values."
   ]
  },
  {
   "cell_type": "markdown",
   "id": "503761b0",
   "metadata": {},
   "source": [
    "#### For the splits : we fill with the nearest one. (summer - summer - x - winter : x will be filled with summer).\n",
    "#### For the picks/bans : fill with imaginary champion named Unknown_champion."
   ]
  },
  {
   "cell_type": "code",
   "execution_count": 11,
   "id": "f47dac5f",
   "metadata": {},
   "outputs": [],
   "source": [
    "# # for the splits\n",
    "# high_na_split_feature = [\"split\"]\n",
    "# merged_df[high_na_split_feature] = merged_df[high_na_split_feature].fillna(method='ffill').fillna(method='bfill')"
   ]
  },
  {
   "cell_type": "code",
   "execution_count": 12,
   "id": "2dc1c7a1",
   "metadata": {},
   "outputs": [],
   "source": [
    "# # for the picks/bans\n",
    "# high_na_percentage_picks_bans_features = [\"blue_team_pick1\", \"blue_team_pick2\", \"blue_team_pick3\", \"blue_team_pick4\", \"blue_team_pick5\",\n",
    "#                                             \"red_team_pick1\",\"red_team_pick2\", \"red_team_pick3\", \"red_team_pick4\", \"red_team_pick5\",\n",
    "#                                             \"blue_team_ban4\", \"blue_team_ban5\",\n",
    "#                                             \"red_team_ban4\", \"red_team_ban5\"]\n",
    "\n",
    "# # fill the NAs of these features with Unknown_champion\n",
    "# merged_df[high_na_percentage_picks_bans_features] = merged_df[high_na_percentage_picks_bans_features].fillna(\"Unknown_champion\")\n"
   ]
  },
  {
   "cell_type": "markdown",
   "id": "3dfab7da",
   "metadata": {},
   "source": [
    "<!-- one final check, maybe there are missing values but are not signaled with NAN -->"
   ]
  },
  {
   "cell_type": "code",
   "execution_count": 13,
   "id": "2ca756aa",
   "metadata": {},
   "outputs": [],
   "source": [
    "# for col in merged_df.columns:\n",
    "#     print(merged_df[col].value_counts())\n",
    "#     print(\"\\n\")"
   ]
  },
  {
   "cell_type": "markdown",
   "id": "277ac956",
   "metadata": {},
   "source": [
    "<!-- -> unknown team in teams name should be droped too (games of unknown team are useless even more damaging). (will alter the computation of winrates.) -->"
   ]
  },
  {
   "cell_type": "code",
   "execution_count": 14,
   "id": "6f0dce93",
   "metadata": {},
   "outputs": [],
   "source": [
    "# # filter them <-> drop :\n",
    "# merged_df = merged_df[(merged_df['blue_team'] != 'unknown team') & (merged_df['red_team'] != 'unknown team')]"
   ]
  },
  {
   "cell_type": "code",
   "execution_count": 15,
   "id": "c0ee8a3a",
   "metadata": {},
   "outputs": [],
   "source": [
    "# # missing values per feature\n",
    "# na_percentage = merged_df.isnull().mean()\n",
    "# display(na_percentage)"
   ]
  },
  {
   "cell_type": "code",
   "execution_count": 16,
   "id": "305a5a4b",
   "metadata": {},
   "outputs": [],
   "source": [
    "# merged_df.to_csv(\"games_aggregated.csv\", index=False)\n",
    "# ;"
   ]
  },
  {
   "cell_type": "markdown",
   "id": "b5b45e3b",
   "metadata": {},
   "source": [
    "No more missing values :D"
   ]
  },
  {
   "cell_type": "markdown",
   "id": "21c95789",
   "metadata": {},
   "source": [
    "Read the saved csv"
   ]
  },
  {
   "cell_type": "code",
   "execution_count": 17,
   "id": "b7ae26fa",
   "metadata": {},
   "outputs": [],
   "source": [
    "processed_df = pd.read_csv(\"games_aggregated.csv\")"
   ]
  },
  {
   "cell_type": "code",
   "execution_count": 18,
   "id": "1efcb7a0",
   "metadata": {},
   "outputs": [
    {
     "data": {
      "application/vnd.microsoft.datawrangler.viewer.v0+json": {
       "columns": [
        {
         "name": "index",
         "rawType": "int64",
         "type": "integer"
        },
        {
         "name": "gameid",
         "rawType": "object",
         "type": "string"
        },
        {
         "name": "league",
         "rawType": "object",
         "type": "string"
        },
        {
         "name": "year",
         "rawType": "int64",
         "type": "integer"
        },
        {
         "name": "split",
         "rawType": "object",
         "type": "string"
        },
        {
         "name": "patch",
         "rawType": "float64",
         "type": "float"
        },
        {
         "name": "playoffs",
         "rawType": "int64",
         "type": "integer"
        },
        {
         "name": "date",
         "rawType": "object",
         "type": "string"
        },
        {
         "name": "blue_team",
         "rawType": "object",
         "type": "string"
        },
        {
         "name": "blue_team_pick1",
         "rawType": "object",
         "type": "string"
        },
        {
         "name": "blue_team_pick2",
         "rawType": "object",
         "type": "string"
        },
        {
         "name": "blue_team_pick3",
         "rawType": "object",
         "type": "string"
        },
        {
         "name": "blue_team_pick4",
         "rawType": "object",
         "type": "string"
        },
        {
         "name": "blue_team_pick5",
         "rawType": "object",
         "type": "string"
        },
        {
         "name": "blue_team_ban1",
         "rawType": "object",
         "type": "string"
        },
        {
         "name": "blue_team_ban2",
         "rawType": "object",
         "type": "string"
        },
        {
         "name": "blue_team_ban3",
         "rawType": "object",
         "type": "string"
        },
        {
         "name": "blue_team_ban4",
         "rawType": "object",
         "type": "string"
        },
        {
         "name": "blue_team_ban5",
         "rawType": "object",
         "type": "string"
        },
        {
         "name": "red_team",
         "rawType": "object",
         "type": "string"
        },
        {
         "name": "red_team_pick1",
         "rawType": "object",
         "type": "string"
        },
        {
         "name": "red_team_pick2",
         "rawType": "object",
         "type": "string"
        },
        {
         "name": "red_team_pick3",
         "rawType": "object",
         "type": "string"
        },
        {
         "name": "red_team_pick4",
         "rawType": "object",
         "type": "string"
        },
        {
         "name": "red_team_pick5",
         "rawType": "object",
         "type": "string"
        },
        {
         "name": "red_team_ban1",
         "rawType": "object",
         "type": "string"
        },
        {
         "name": "red_team_ban2",
         "rawType": "object",
         "type": "string"
        },
        {
         "name": "red_team_ban3",
         "rawType": "object",
         "type": "string"
        },
        {
         "name": "red_team_ban4",
         "rawType": "object",
         "type": "string"
        },
        {
         "name": "red_team_ban5",
         "rawType": "object",
         "type": "string"
        },
        {
         "name": "blue_bot_player",
         "rawType": "object",
         "type": "string"
        },
        {
         "name": "blue_jgl_player",
         "rawType": "object",
         "type": "string"
        },
        {
         "name": "blue_mid_player",
         "rawType": "object",
         "type": "string"
        },
        {
         "name": "blue_supp_player",
         "rawType": "object",
         "type": "string"
        },
        {
         "name": "blue_top_player",
         "rawType": "object",
         "type": "string"
        },
        {
         "name": "red_bot_player",
         "rawType": "object",
         "type": "string"
        },
        {
         "name": "red_jgl_player",
         "rawType": "object",
         "type": "string"
        },
        {
         "name": "red_mid_player",
         "rawType": "object",
         "type": "string"
        },
        {
         "name": "red_supp_player",
         "rawType": "object",
         "type": "string"
        },
        {
         "name": "red_top_player",
         "rawType": "object",
         "type": "string"
        },
        {
         "name": "is_blue_winner",
         "rawType": "int64",
         "type": "integer"
        }
       ],
       "conversionMethod": "pd.DataFrame",
       "ref": "6fba16a6-460e-4ad0-8aa0-c3d6789d6665",
       "rows": [
        [
         "0",
         "TRLH3/33",
         "EU LCS",
         "2014",
         "Spring",
         "3.15",
         "0",
         "2014-01-14 17:52:02",
         "Fnatic",
         "Unknown_champion",
         "Unknown_champion",
         "Unknown_champion",
         "Unknown_champion",
         "Unknown_champion",
         "Riven",
         "Kha'Zix",
         "Yasuo",
         "Unknown_champion",
         "Unknown_champion",
         "Gambit Gaming",
         "Unknown_champion",
         "Unknown_champion",
         "Unknown_champion",
         "Unknown_champion",
         "Unknown_champion",
         "Kassadin",
         "Nidalee",
         "Elise",
         "Unknown_champion",
         "Unknown_champion",
         "Rekkles",
         "Cyanide",
         "xPeke",
         "YellOwStaR",
         "sOAZ",
         "Genja",
         "Diamondprox",
         "Alex Ich",
         "Edward",
         "Darien",
         "1"
        ],
        [
         "1",
         "TRLH3/44",
         "EU LCS",
         "2014",
         "Spring",
         "3.15",
         "0",
         "2014-01-14 19:16:29",
         "Copenhagen Wolves",
         "Unknown_champion",
         "Unknown_champion",
         "Unknown_champion",
         "Unknown_champion",
         "Unknown_champion",
         "Lee Sin",
         "Annie",
         "Yasuo",
         "Unknown_champion",
         "Unknown_champion",
         "Alliance",
         "Unknown_champion",
         "Unknown_champion",
         "Unknown_champion",
         "Unknown_champion",
         "Unknown_champion",
         "Kassadin",
         "Kha'Zix",
         "Ziggs",
         "Unknown_champion",
         "Unknown_champion",
         "FORG1VEN",
         "Amazing",
         "cowTard",
         "Unlimited",
         "YoungBuck",
         "Tabzz",
         "Shook",
         "Froggen",
         "Nyph",
         "Wickd",
         "1"
        ],
        [
         "2",
         "TRLH3/76",
         "EU LCS",
         "2014",
         "Spring",
         "3.15",
         "0",
         "2014-01-14 21:28:45",
         "Alliance",
         "Unknown_champion",
         "Unknown_champion",
         "Unknown_champion",
         "Unknown_champion",
         "Unknown_champion",
         "Kassadin",
         "Annie",
         "Orianna",
         "Unknown_champion",
         "Unknown_champion",
         "Fnatic",
         "Unknown_champion",
         "Unknown_champion",
         "Unknown_champion",
         "Unknown_champion",
         "Unknown_champion",
         "Yasuo",
         "Elise",
         "LeBlanc",
         "Unknown_champion",
         "Unknown_champion",
         "Tabzz",
         "Shook",
         "Froggen",
         "Nyph",
         "Wickd",
         "Rekkles",
         "Cyanide",
         "xPeke",
         "YellOwStaR",
         "sOAZ",
         "0"
        ],
        [
         "3",
         "TRLH3/85",
         "EU LCS",
         "2014",
         "Spring",
         "3.15",
         "0",
         "2014-01-14 22:37:18",
         "Gambit Gaming",
         "Unknown_champion",
         "Unknown_champion",
         "Unknown_champion",
         "Unknown_champion",
         "Unknown_champion",
         "Kayle",
         "Annie",
         "Elise",
         "Unknown_champion",
         "Unknown_champion",
         "Copenhagen Wolves",
         "Unknown_champion",
         "Unknown_champion",
         "Unknown_champion",
         "Unknown_champion",
         "Unknown_champion",
         "Dr. Mundo",
         "Yasuo",
         "Kassadin",
         "Unknown_champion",
         "Unknown_champion",
         "Genja",
         "Diamondprox",
         "Alex Ich",
         "Edward",
         "Darien",
         "FORG1VEN",
         "Amazing",
         "cowTard",
         "Unlimited",
         "YoungBuck",
         "1"
        ],
        [
         "4",
         "TRLH3/10072",
         "EU LCS",
         "2014",
         "Spring",
         "3.15",
         "0",
         "2014-01-14 23:48:12",
         "SK Gaming",
         "Unknown_champion",
         "Unknown_champion",
         "Unknown_champion",
         "Unknown_champion",
         "Unknown_champion",
         "Gragas",
         "Yasuo",
         "Riven",
         "Unknown_champion",
         "Unknown_champion",
         "Millenium",
         "Unknown_champion",
         "Unknown_champion",
         "Unknown_champion",
         "Unknown_champion",
         "Unknown_champion",
         "Evelynn",
         "Elise",
         "Dr. Mundo",
         "Unknown_champion",
         "Unknown_champion",
         "CandyPanda",
         "Svenskeren",
         "Jesiz",
         "nRated",
         "fredy122",
         "Creaton",
         "Araneae",
         "Kerp",
         "Jree",
         "Kev1n",
         "0"
        ]
       ],
       "shape": {
        "columns": 40,
        "rows": 5
       }
      },
      "text/html": [
       "<div>\n",
       "<style scoped>\n",
       "    .dataframe tbody tr th:only-of-type {\n",
       "        vertical-align: middle;\n",
       "    }\n",
       "\n",
       "    .dataframe tbody tr th {\n",
       "        vertical-align: top;\n",
       "    }\n",
       "\n",
       "    .dataframe thead th {\n",
       "        text-align: right;\n",
       "    }\n",
       "</style>\n",
       "<table border=\"1\" class=\"dataframe\">\n",
       "  <thead>\n",
       "    <tr style=\"text-align: right;\">\n",
       "      <th></th>\n",
       "      <th>gameid</th>\n",
       "      <th>league</th>\n",
       "      <th>year</th>\n",
       "      <th>split</th>\n",
       "      <th>patch</th>\n",
       "      <th>playoffs</th>\n",
       "      <th>date</th>\n",
       "      <th>blue_team</th>\n",
       "      <th>blue_team_pick1</th>\n",
       "      <th>blue_team_pick2</th>\n",
       "      <th>...</th>\n",
       "      <th>blue_jgl_player</th>\n",
       "      <th>blue_mid_player</th>\n",
       "      <th>blue_supp_player</th>\n",
       "      <th>blue_top_player</th>\n",
       "      <th>red_bot_player</th>\n",
       "      <th>red_jgl_player</th>\n",
       "      <th>red_mid_player</th>\n",
       "      <th>red_supp_player</th>\n",
       "      <th>red_top_player</th>\n",
       "      <th>is_blue_winner</th>\n",
       "    </tr>\n",
       "  </thead>\n",
       "  <tbody>\n",
       "    <tr>\n",
       "      <th>0</th>\n",
       "      <td>TRLH3/33</td>\n",
       "      <td>EU LCS</td>\n",
       "      <td>2014</td>\n",
       "      <td>Spring</td>\n",
       "      <td>3.15</td>\n",
       "      <td>0</td>\n",
       "      <td>2014-01-14 17:52:02</td>\n",
       "      <td>Fnatic</td>\n",
       "      <td>Unknown_champion</td>\n",
       "      <td>Unknown_champion</td>\n",
       "      <td>...</td>\n",
       "      <td>Cyanide</td>\n",
       "      <td>xPeke</td>\n",
       "      <td>YellOwStaR</td>\n",
       "      <td>sOAZ</td>\n",
       "      <td>Genja</td>\n",
       "      <td>Diamondprox</td>\n",
       "      <td>Alex Ich</td>\n",
       "      <td>Edward</td>\n",
       "      <td>Darien</td>\n",
       "      <td>1</td>\n",
       "    </tr>\n",
       "    <tr>\n",
       "      <th>1</th>\n",
       "      <td>TRLH3/44</td>\n",
       "      <td>EU LCS</td>\n",
       "      <td>2014</td>\n",
       "      <td>Spring</td>\n",
       "      <td>3.15</td>\n",
       "      <td>0</td>\n",
       "      <td>2014-01-14 19:16:29</td>\n",
       "      <td>Copenhagen Wolves</td>\n",
       "      <td>Unknown_champion</td>\n",
       "      <td>Unknown_champion</td>\n",
       "      <td>...</td>\n",
       "      <td>Amazing</td>\n",
       "      <td>cowTard</td>\n",
       "      <td>Unlimited</td>\n",
       "      <td>YoungBuck</td>\n",
       "      <td>Tabzz</td>\n",
       "      <td>Shook</td>\n",
       "      <td>Froggen</td>\n",
       "      <td>Nyph</td>\n",
       "      <td>Wickd</td>\n",
       "      <td>1</td>\n",
       "    </tr>\n",
       "    <tr>\n",
       "      <th>2</th>\n",
       "      <td>TRLH3/76</td>\n",
       "      <td>EU LCS</td>\n",
       "      <td>2014</td>\n",
       "      <td>Spring</td>\n",
       "      <td>3.15</td>\n",
       "      <td>0</td>\n",
       "      <td>2014-01-14 21:28:45</td>\n",
       "      <td>Alliance</td>\n",
       "      <td>Unknown_champion</td>\n",
       "      <td>Unknown_champion</td>\n",
       "      <td>...</td>\n",
       "      <td>Shook</td>\n",
       "      <td>Froggen</td>\n",
       "      <td>Nyph</td>\n",
       "      <td>Wickd</td>\n",
       "      <td>Rekkles</td>\n",
       "      <td>Cyanide</td>\n",
       "      <td>xPeke</td>\n",
       "      <td>YellOwStaR</td>\n",
       "      <td>sOAZ</td>\n",
       "      <td>0</td>\n",
       "    </tr>\n",
       "    <tr>\n",
       "      <th>3</th>\n",
       "      <td>TRLH3/85</td>\n",
       "      <td>EU LCS</td>\n",
       "      <td>2014</td>\n",
       "      <td>Spring</td>\n",
       "      <td>3.15</td>\n",
       "      <td>0</td>\n",
       "      <td>2014-01-14 22:37:18</td>\n",
       "      <td>Gambit Gaming</td>\n",
       "      <td>Unknown_champion</td>\n",
       "      <td>Unknown_champion</td>\n",
       "      <td>...</td>\n",
       "      <td>Diamondprox</td>\n",
       "      <td>Alex Ich</td>\n",
       "      <td>Edward</td>\n",
       "      <td>Darien</td>\n",
       "      <td>FORG1VEN</td>\n",
       "      <td>Amazing</td>\n",
       "      <td>cowTard</td>\n",
       "      <td>Unlimited</td>\n",
       "      <td>YoungBuck</td>\n",
       "      <td>1</td>\n",
       "    </tr>\n",
       "    <tr>\n",
       "      <th>4</th>\n",
       "      <td>TRLH3/10072</td>\n",
       "      <td>EU LCS</td>\n",
       "      <td>2014</td>\n",
       "      <td>Spring</td>\n",
       "      <td>3.15</td>\n",
       "      <td>0</td>\n",
       "      <td>2014-01-14 23:48:12</td>\n",
       "      <td>SK Gaming</td>\n",
       "      <td>Unknown_champion</td>\n",
       "      <td>Unknown_champion</td>\n",
       "      <td>...</td>\n",
       "      <td>Svenskeren</td>\n",
       "      <td>Jesiz</td>\n",
       "      <td>nRated</td>\n",
       "      <td>fredy122</td>\n",
       "      <td>Creaton</td>\n",
       "      <td>Araneae</td>\n",
       "      <td>Kerp</td>\n",
       "      <td>Jree</td>\n",
       "      <td>Kev1n</td>\n",
       "      <td>0</td>\n",
       "    </tr>\n",
       "  </tbody>\n",
       "</table>\n",
       "<p>5 rows × 40 columns</p>\n",
       "</div>"
      ],
      "text/plain": [
       "        gameid  league  year   split  patch  playoffs                 date  \\\n",
       "0     TRLH3/33  EU LCS  2014  Spring   3.15         0  2014-01-14 17:52:02   \n",
       "1     TRLH3/44  EU LCS  2014  Spring   3.15         0  2014-01-14 19:16:29   \n",
       "2     TRLH3/76  EU LCS  2014  Spring   3.15         0  2014-01-14 21:28:45   \n",
       "3     TRLH3/85  EU LCS  2014  Spring   3.15         0  2014-01-14 22:37:18   \n",
       "4  TRLH3/10072  EU LCS  2014  Spring   3.15         0  2014-01-14 23:48:12   \n",
       "\n",
       "           blue_team   blue_team_pick1   blue_team_pick2  ... blue_jgl_player  \\\n",
       "0             Fnatic  Unknown_champion  Unknown_champion  ...         Cyanide   \n",
       "1  Copenhagen Wolves  Unknown_champion  Unknown_champion  ...         Amazing   \n",
       "2           Alliance  Unknown_champion  Unknown_champion  ...           Shook   \n",
       "3      Gambit Gaming  Unknown_champion  Unknown_champion  ...     Diamondprox   \n",
       "4          SK Gaming  Unknown_champion  Unknown_champion  ...      Svenskeren   \n",
       "\n",
       "  blue_mid_player blue_supp_player blue_top_player red_bot_player  \\\n",
       "0           xPeke       YellOwStaR            sOAZ          Genja   \n",
       "1         cowTard        Unlimited       YoungBuck          Tabzz   \n",
       "2         Froggen             Nyph           Wickd        Rekkles   \n",
       "3        Alex Ich           Edward          Darien       FORG1VEN   \n",
       "4           Jesiz           nRated        fredy122        Creaton   \n",
       "\n",
       "  red_jgl_player red_mid_player red_supp_player red_top_player is_blue_winner  \n",
       "0    Diamondprox       Alex Ich          Edward         Darien              1  \n",
       "1          Shook        Froggen            Nyph          Wickd              1  \n",
       "2        Cyanide          xPeke      YellOwStaR           sOAZ              0  \n",
       "3        Amazing        cowTard       Unlimited      YoungBuck              1  \n",
       "4        Araneae           Kerp            Jree          Kev1n              0  \n",
       "\n",
       "[5 rows x 40 columns]"
      ]
     },
     "execution_count": 18,
     "metadata": {},
     "output_type": "execute_result"
    }
   ],
   "source": [
    "processed_df.head()"
   ]
  },
  {
   "cell_type": "code",
   "execution_count": 19,
   "id": "a780ba00",
   "metadata": {},
   "outputs": [
    {
     "name": "stdout",
     "output_type": "stream",
     "text": [
      "<class 'pandas.core.frame.DataFrame'>\n",
      "RangeIndex: 80004 entries, 0 to 80003\n",
      "Data columns (total 40 columns):\n",
      " #   Column            Non-Null Count  Dtype  \n",
      "---  ------            --------------  -----  \n",
      " 0   gameid            80004 non-null  object \n",
      " 1   league            80004 non-null  object \n",
      " 2   year              80004 non-null  int64  \n",
      " 3   split             80004 non-null  object \n",
      " 4   patch             80004 non-null  float64\n",
      " 5   playoffs          80004 non-null  int64  \n",
      " 6   date              80004 non-null  object \n",
      " 7   blue_team         80004 non-null  object \n",
      " 8   blue_team_pick1   80004 non-null  object \n",
      " 9   blue_team_pick2   80004 non-null  object \n",
      " 10  blue_team_pick3   80004 non-null  object \n",
      " 11  blue_team_pick4   80004 non-null  object \n",
      " 12  blue_team_pick5   80004 non-null  object \n",
      " 13  blue_team_ban1    80004 non-null  object \n",
      " 14  blue_team_ban2    80004 non-null  object \n",
      " 15  blue_team_ban3    80004 non-null  object \n",
      " 16  blue_team_ban4    80004 non-null  object \n",
      " 17  blue_team_ban5    80004 non-null  object \n",
      " 18  red_team          80004 non-null  object \n",
      " 19  red_team_pick1    80004 non-null  object \n",
      " 20  red_team_pick2    80004 non-null  object \n",
      " 21  red_team_pick3    80004 non-null  object \n",
      " 22  red_team_pick4    80004 non-null  object \n",
      " 23  red_team_pick5    80004 non-null  object \n",
      " 24  red_team_ban1     80004 non-null  object \n",
      " 25  red_team_ban2     80004 non-null  object \n",
      " 26  red_team_ban3     80004 non-null  object \n",
      " 27  red_team_ban4     80004 non-null  object \n",
      " 28  red_team_ban5     80004 non-null  object \n",
      " 29  blue_bot_player   80004 non-null  object \n",
      " 30  blue_jgl_player   80004 non-null  object \n",
      " 31  blue_mid_player   80004 non-null  object \n",
      " 32  blue_supp_player  80004 non-null  object \n",
      " 33  blue_top_player   80004 non-null  object \n",
      " 34  red_bot_player    80004 non-null  object \n",
      " 35  red_jgl_player    80004 non-null  object \n",
      " 36  red_mid_player    80004 non-null  object \n",
      " 37  red_supp_player   80004 non-null  object \n",
      " 38  red_top_player    80004 non-null  object \n",
      " 39  is_blue_winner    80004 non-null  int64  \n",
      "dtypes: float64(1), int64(3), object(36)\n",
      "memory usage: 24.4+ MB\n"
     ]
    }
   ],
   "source": [
    "processed_df.info()"
   ]
  },
  {
   "cell_type": "markdown",
   "id": "ce217017",
   "metadata": {},
   "source": [
    "## Feature engineering"
   ]
  },
  {
   "cell_type": "markdown",
   "id": "5b1171bf",
   "metadata": {},
   "source": [
    "We will calculate the winrate for each team:\n",
    "- helps alot with target encoding (e.g. for teams) that highly contributes to the final prediction.\n",
    "\n",
    "we will add two features, blue_team_winrate and red_team_winrate"
   ]
  },
  {
   "cell_type": "code",
   "execution_count": 20,
   "id": "b0414354",
   "metadata": {},
   "outputs": [],
   "source": [
    "# setting the list of featres\n",
    "\n",
    "features_to_drop = [\"gameid\", \"date\"] # no info (high cardinality)\n",
    "\n",
    "numerical_features = [\"year\", \"playoffs\", \"is_blue_winner\"] # patch is float but will be treated as object"
   ]
  },
  {
   "cell_type": "code",
   "execution_count": null,
   "id": "6d5c6afe",
   "metadata": {},
   "outputs": [],
   "source": [
    "# winrate\n",
    "# haaving the dataframe sorted chronologically helps here.\n",
    "\n",
    "# saves\n",
    "blue_winrates = []\n",
    "red_winrates = []\n",
    "blue_games_played = []\n",
    "red_games_played = []\n",
    "blue_H2H_red = []\n",
    "red_H2H_blue = []\n",
    "\n",
    "# dictionaries to maintain cumulative records\n",
    "team_records = {}  # { team name : {'wins': int, 'games': int} }\n",
    "h2h_records = {}   # { (blue_team, red_team) : {'wins': int, 'games': int} }\n",
    "\n",
    "# loop over each game (<-> each row).\n",
    "for index, row in processed_df.iterrows():\n",
    "    blue_team = row['blue_team']\n",
    "    red_team = row['red_team']\n",
    "    \n",
    "    # --- Cumulative team winrates/gamesPlayed ---\n",
    "    blue_record = team_records.get(blue_team, {'wins': 0, 'games': 0})\n",
    "    red_record = team_records.get(red_team, {'wins': 0, 'games': 0})\n",
    "    \n",
    "    blue_wr = blue_record['wins'] / blue_record['games'] if blue_record['games'] > 0 else 0.5\n",
    "    red_wr = red_record['wins'] / red_record['games'] if red_record['games'] > 0 else 0.5\n",
    "    \n",
    "    blue_gp = blue_record['games']\n",
    "    red_gp = red_record['games']\n",
    "    \n",
    "    blue_winrates.append(blue_wr)\n",
    "    red_winrates.append(red_wr)\n",
    "    blue_games_played.append(blue_gp)\n",
    "    red_games_played.append(red_gp)\n",
    "    \n",
    "    # --- blue_H2H_red and red_H2H_blue---\n",
    "    key = (blue_team, red_team)\n",
    "    h2h_rec = h2h_records.get(key, {'wins': 0, 'games': 0})\n",
    "    \n",
    "    blue_h2h_count = h2h_rec['wins'] if h2h_rec['games'] > 0 else 0\n",
    "    blue_H2H_red.append(blue_h2h_count)\n",
    "    \n",
    "    # red_H2H_blue, red's wins are games played minus blue's wins.\n",
    "    red_h2h_count = (h2h_rec['games'] - h2h_rec['wins']) if h2h_rec['games'] > 0 else 0\n",
    "    red_H2H_blue.append(red_h2h_count)\n",
    "    \n",
    "    # --- Update teams records ---\n",
    "    team_records.setdefault(blue_team, {'wins': 0, 'games': 0})\n",
    "    team_records.setdefault(red_team, {'wins': 0, 'games': 0})\n",
    "    team_records[blue_team]['games'] += 1\n",
    "    team_records[red_team]['games'] += 1\n",
    "    if row['is_blue_winner'] == 1:\n",
    "        team_records[blue_team]['wins'] += 1\n",
    "    else:\n",
    "        team_records[red_team]['wins'] += 1\n",
    "    \n",
    "    # --- Update H2H records ---\n",
    "    h2h_records.setdefault(key, {'wins': 0, 'games': 0})\n",
    "    h2h_records[key]['games'] += 1\n",
    "    if row['is_blue_winner'] == 1:\n",
    "        h2h_records[key]['wins'] += 1\n",
    "\n",
    "# add the computed features as new features.\n",
    "processed_df['blue_team_winrate'] = blue_winrates\n",
    "processed_df['red_team_winrate'] = red_winrates\n",
    "processed_df['blue_team_games_played'] = blue_games_played\n",
    "processed_df['red_team_games_played'] = red_games_played\n",
    "processed_df['blue_H2H_red'] = blue_H2H_red\n",
    "processed_df['red_H2H_blue'] = red_H2H_blue"
   ]
  },
  {
   "cell_type": "code",
   "execution_count": 25,
   "id": "589711a3",
   "metadata": {},
   "outputs": [
    {
     "data": {
      "application/vnd.microsoft.datawrangler.viewer.v0+json": {
       "columns": [
        {
         "name": "index",
         "rawType": "int64",
         "type": "integer"
        },
        {
         "name": "gameid",
         "rawType": "object",
         "type": "string"
        },
        {
         "name": "league",
         "rawType": "object",
         "type": "string"
        },
        {
         "name": "year",
         "rawType": "int64",
         "type": "integer"
        },
        {
         "name": "split",
         "rawType": "object",
         "type": "string"
        },
        {
         "name": "patch",
         "rawType": "float64",
         "type": "float"
        },
        {
         "name": "playoffs",
         "rawType": "int64",
         "type": "integer"
        },
        {
         "name": "date",
         "rawType": "object",
         "type": "string"
        },
        {
         "name": "blue_team",
         "rawType": "object",
         "type": "string"
        },
        {
         "name": "blue_team_pick1",
         "rawType": "object",
         "type": "string"
        },
        {
         "name": "blue_team_pick2",
         "rawType": "object",
         "type": "string"
        },
        {
         "name": "blue_team_pick3",
         "rawType": "object",
         "type": "string"
        },
        {
         "name": "blue_team_pick4",
         "rawType": "object",
         "type": "string"
        },
        {
         "name": "blue_team_pick5",
         "rawType": "object",
         "type": "string"
        },
        {
         "name": "blue_team_ban1",
         "rawType": "object",
         "type": "string"
        },
        {
         "name": "blue_team_ban2",
         "rawType": "object",
         "type": "string"
        },
        {
         "name": "blue_team_ban3",
         "rawType": "object",
         "type": "string"
        },
        {
         "name": "blue_team_ban4",
         "rawType": "object",
         "type": "string"
        },
        {
         "name": "blue_team_ban5",
         "rawType": "object",
         "type": "string"
        },
        {
         "name": "red_team",
         "rawType": "object",
         "type": "string"
        },
        {
         "name": "red_team_pick1",
         "rawType": "object",
         "type": "string"
        },
        {
         "name": "red_team_pick2",
         "rawType": "object",
         "type": "string"
        },
        {
         "name": "red_team_pick3",
         "rawType": "object",
         "type": "string"
        },
        {
         "name": "red_team_pick4",
         "rawType": "object",
         "type": "string"
        },
        {
         "name": "red_team_pick5",
         "rawType": "object",
         "type": "string"
        },
        {
         "name": "red_team_ban1",
         "rawType": "object",
         "type": "string"
        },
        {
         "name": "red_team_ban2",
         "rawType": "object",
         "type": "string"
        },
        {
         "name": "red_team_ban3",
         "rawType": "object",
         "type": "string"
        },
        {
         "name": "red_team_ban4",
         "rawType": "object",
         "type": "string"
        },
        {
         "name": "red_team_ban5",
         "rawType": "object",
         "type": "string"
        },
        {
         "name": "blue_bot_player",
         "rawType": "object",
         "type": "string"
        },
        {
         "name": "blue_jgl_player",
         "rawType": "object",
         "type": "string"
        },
        {
         "name": "blue_mid_player",
         "rawType": "object",
         "type": "string"
        },
        {
         "name": "blue_supp_player",
         "rawType": "object",
         "type": "string"
        },
        {
         "name": "blue_top_player",
         "rawType": "object",
         "type": "string"
        },
        {
         "name": "red_bot_player",
         "rawType": "object",
         "type": "string"
        },
        {
         "name": "red_jgl_player",
         "rawType": "object",
         "type": "string"
        },
        {
         "name": "red_mid_player",
         "rawType": "object",
         "type": "string"
        },
        {
         "name": "red_supp_player",
         "rawType": "object",
         "type": "string"
        },
        {
         "name": "red_top_player",
         "rawType": "object",
         "type": "string"
        },
        {
         "name": "is_blue_winner",
         "rawType": "int64",
         "type": "integer"
        },
        {
         "name": "blue_team_winrate",
         "rawType": "float64",
         "type": "float"
        },
        {
         "name": "red_team_winrate",
         "rawType": "float64",
         "type": "float"
        },
        {
         "name": "blue_team_games_played",
         "rawType": "int64",
         "type": "integer"
        },
        {
         "name": "red_team_games_played",
         "rawType": "int64",
         "type": "integer"
        },
        {
         "name": "blue_H2H_red",
         "rawType": "int64",
         "type": "integer"
        },
        {
         "name": "red_H2H_blue",
         "rawType": "int64",
         "type": "integer"
        }
       ],
       "conversionMethod": "pd.DataFrame",
       "ref": "17586384-fa24-45f4-ae76-aa370fe7178c",
       "rows": [
        [
         "0",
         "TRLH3/33",
         "EU LCS",
         "2014",
         "Spring",
         "3.15",
         "0",
         "2014-01-14 17:52:02",
         "Fnatic",
         "Unknown_champion",
         "Unknown_champion",
         "Unknown_champion",
         "Unknown_champion",
         "Unknown_champion",
         "Riven",
         "Kha'Zix",
         "Yasuo",
         "Unknown_champion",
         "Unknown_champion",
         "Gambit Gaming",
         "Unknown_champion",
         "Unknown_champion",
         "Unknown_champion",
         "Unknown_champion",
         "Unknown_champion",
         "Kassadin",
         "Nidalee",
         "Elise",
         "Unknown_champion",
         "Unknown_champion",
         "Rekkles",
         "Cyanide",
         "xPeke",
         "YellOwStaR",
         "sOAZ",
         "Genja",
         "Diamondprox",
         "Alex Ich",
         "Edward",
         "Darien",
         "1",
         "0.5",
         "0.5",
         "0",
         "0",
         "0",
         "0"
        ],
        [
         "1",
         "TRLH3/44",
         "EU LCS",
         "2014",
         "Spring",
         "3.15",
         "0",
         "2014-01-14 19:16:29",
         "Copenhagen Wolves",
         "Unknown_champion",
         "Unknown_champion",
         "Unknown_champion",
         "Unknown_champion",
         "Unknown_champion",
         "Lee Sin",
         "Annie",
         "Yasuo",
         "Unknown_champion",
         "Unknown_champion",
         "Alliance",
         "Unknown_champion",
         "Unknown_champion",
         "Unknown_champion",
         "Unknown_champion",
         "Unknown_champion",
         "Kassadin",
         "Kha'Zix",
         "Ziggs",
         "Unknown_champion",
         "Unknown_champion",
         "FORG1VEN",
         "Amazing",
         "cowTard",
         "Unlimited",
         "YoungBuck",
         "Tabzz",
         "Shook",
         "Froggen",
         "Nyph",
         "Wickd",
         "1",
         "0.5",
         "0.5",
         "0",
         "0",
         "0",
         "0"
        ],
        [
         "2",
         "TRLH3/76",
         "EU LCS",
         "2014",
         "Spring",
         "3.15",
         "0",
         "2014-01-14 21:28:45",
         "Alliance",
         "Unknown_champion",
         "Unknown_champion",
         "Unknown_champion",
         "Unknown_champion",
         "Unknown_champion",
         "Kassadin",
         "Annie",
         "Orianna",
         "Unknown_champion",
         "Unknown_champion",
         "Fnatic",
         "Unknown_champion",
         "Unknown_champion",
         "Unknown_champion",
         "Unknown_champion",
         "Unknown_champion",
         "Yasuo",
         "Elise",
         "LeBlanc",
         "Unknown_champion",
         "Unknown_champion",
         "Tabzz",
         "Shook",
         "Froggen",
         "Nyph",
         "Wickd",
         "Rekkles",
         "Cyanide",
         "xPeke",
         "YellOwStaR",
         "sOAZ",
         "0",
         "0.0",
         "1.0",
         "1",
         "1",
         "0",
         "0"
        ],
        [
         "3",
         "TRLH3/85",
         "EU LCS",
         "2014",
         "Spring",
         "3.15",
         "0",
         "2014-01-14 22:37:18",
         "Gambit Gaming",
         "Unknown_champion",
         "Unknown_champion",
         "Unknown_champion",
         "Unknown_champion",
         "Unknown_champion",
         "Kayle",
         "Annie",
         "Elise",
         "Unknown_champion",
         "Unknown_champion",
         "Copenhagen Wolves",
         "Unknown_champion",
         "Unknown_champion",
         "Unknown_champion",
         "Unknown_champion",
         "Unknown_champion",
         "Dr. Mundo",
         "Yasuo",
         "Kassadin",
         "Unknown_champion",
         "Unknown_champion",
         "Genja",
         "Diamondprox",
         "Alex Ich",
         "Edward",
         "Darien",
         "FORG1VEN",
         "Amazing",
         "cowTard",
         "Unlimited",
         "YoungBuck",
         "1",
         "0.0",
         "1.0",
         "1",
         "1",
         "0",
         "0"
        ],
        [
         "4",
         "TRLH3/10072",
         "EU LCS",
         "2014",
         "Spring",
         "3.15",
         "0",
         "2014-01-14 23:48:12",
         "SK Gaming",
         "Unknown_champion",
         "Unknown_champion",
         "Unknown_champion",
         "Unknown_champion",
         "Unknown_champion",
         "Gragas",
         "Yasuo",
         "Riven",
         "Unknown_champion",
         "Unknown_champion",
         "Millenium",
         "Unknown_champion",
         "Unknown_champion",
         "Unknown_champion",
         "Unknown_champion",
         "Unknown_champion",
         "Evelynn",
         "Elise",
         "Dr. Mundo",
         "Unknown_champion",
         "Unknown_champion",
         "CandyPanda",
         "Svenskeren",
         "Jesiz",
         "nRated",
         "fredy122",
         "Creaton",
         "Araneae",
         "Kerp",
         "Jree",
         "Kev1n",
         "0",
         "0.5",
         "0.5",
         "0",
         "0",
         "0",
         "0"
        ]
       ],
       "shape": {
        "columns": 46,
        "rows": 5
       }
      },
      "text/html": [
       "<div>\n",
       "<style scoped>\n",
       "    .dataframe tbody tr th:only-of-type {\n",
       "        vertical-align: middle;\n",
       "    }\n",
       "\n",
       "    .dataframe tbody tr th {\n",
       "        vertical-align: top;\n",
       "    }\n",
       "\n",
       "    .dataframe thead th {\n",
       "        text-align: right;\n",
       "    }\n",
       "</style>\n",
       "<table border=\"1\" class=\"dataframe\">\n",
       "  <thead>\n",
       "    <tr style=\"text-align: right;\">\n",
       "      <th></th>\n",
       "      <th>gameid</th>\n",
       "      <th>league</th>\n",
       "      <th>year</th>\n",
       "      <th>split</th>\n",
       "      <th>patch</th>\n",
       "      <th>playoffs</th>\n",
       "      <th>date</th>\n",
       "      <th>blue_team</th>\n",
       "      <th>blue_team_pick1</th>\n",
       "      <th>blue_team_pick2</th>\n",
       "      <th>...</th>\n",
       "      <th>red_mid_player</th>\n",
       "      <th>red_supp_player</th>\n",
       "      <th>red_top_player</th>\n",
       "      <th>is_blue_winner</th>\n",
       "      <th>blue_team_winrate</th>\n",
       "      <th>red_team_winrate</th>\n",
       "      <th>blue_team_games_played</th>\n",
       "      <th>red_team_games_played</th>\n",
       "      <th>blue_H2H_red</th>\n",
       "      <th>red_H2H_blue</th>\n",
       "    </tr>\n",
       "  </thead>\n",
       "  <tbody>\n",
       "    <tr>\n",
       "      <th>0</th>\n",
       "      <td>TRLH3/33</td>\n",
       "      <td>EU LCS</td>\n",
       "      <td>2014</td>\n",
       "      <td>Spring</td>\n",
       "      <td>3.15</td>\n",
       "      <td>0</td>\n",
       "      <td>2014-01-14 17:52:02</td>\n",
       "      <td>Fnatic</td>\n",
       "      <td>Unknown_champion</td>\n",
       "      <td>Unknown_champion</td>\n",
       "      <td>...</td>\n",
       "      <td>Alex Ich</td>\n",
       "      <td>Edward</td>\n",
       "      <td>Darien</td>\n",
       "      <td>1</td>\n",
       "      <td>0.5</td>\n",
       "      <td>0.5</td>\n",
       "      <td>0</td>\n",
       "      <td>0</td>\n",
       "      <td>0</td>\n",
       "      <td>0</td>\n",
       "    </tr>\n",
       "    <tr>\n",
       "      <th>1</th>\n",
       "      <td>TRLH3/44</td>\n",
       "      <td>EU LCS</td>\n",
       "      <td>2014</td>\n",
       "      <td>Spring</td>\n",
       "      <td>3.15</td>\n",
       "      <td>0</td>\n",
       "      <td>2014-01-14 19:16:29</td>\n",
       "      <td>Copenhagen Wolves</td>\n",
       "      <td>Unknown_champion</td>\n",
       "      <td>Unknown_champion</td>\n",
       "      <td>...</td>\n",
       "      <td>Froggen</td>\n",
       "      <td>Nyph</td>\n",
       "      <td>Wickd</td>\n",
       "      <td>1</td>\n",
       "      <td>0.5</td>\n",
       "      <td>0.5</td>\n",
       "      <td>0</td>\n",
       "      <td>0</td>\n",
       "      <td>0</td>\n",
       "      <td>0</td>\n",
       "    </tr>\n",
       "    <tr>\n",
       "      <th>2</th>\n",
       "      <td>TRLH3/76</td>\n",
       "      <td>EU LCS</td>\n",
       "      <td>2014</td>\n",
       "      <td>Spring</td>\n",
       "      <td>3.15</td>\n",
       "      <td>0</td>\n",
       "      <td>2014-01-14 21:28:45</td>\n",
       "      <td>Alliance</td>\n",
       "      <td>Unknown_champion</td>\n",
       "      <td>Unknown_champion</td>\n",
       "      <td>...</td>\n",
       "      <td>xPeke</td>\n",
       "      <td>YellOwStaR</td>\n",
       "      <td>sOAZ</td>\n",
       "      <td>0</td>\n",
       "      <td>0.0</td>\n",
       "      <td>1.0</td>\n",
       "      <td>1</td>\n",
       "      <td>1</td>\n",
       "      <td>0</td>\n",
       "      <td>0</td>\n",
       "    </tr>\n",
       "    <tr>\n",
       "      <th>3</th>\n",
       "      <td>TRLH3/85</td>\n",
       "      <td>EU LCS</td>\n",
       "      <td>2014</td>\n",
       "      <td>Spring</td>\n",
       "      <td>3.15</td>\n",
       "      <td>0</td>\n",
       "      <td>2014-01-14 22:37:18</td>\n",
       "      <td>Gambit Gaming</td>\n",
       "      <td>Unknown_champion</td>\n",
       "      <td>Unknown_champion</td>\n",
       "      <td>...</td>\n",
       "      <td>cowTard</td>\n",
       "      <td>Unlimited</td>\n",
       "      <td>YoungBuck</td>\n",
       "      <td>1</td>\n",
       "      <td>0.0</td>\n",
       "      <td>1.0</td>\n",
       "      <td>1</td>\n",
       "      <td>1</td>\n",
       "      <td>0</td>\n",
       "      <td>0</td>\n",
       "    </tr>\n",
       "    <tr>\n",
       "      <th>4</th>\n",
       "      <td>TRLH3/10072</td>\n",
       "      <td>EU LCS</td>\n",
       "      <td>2014</td>\n",
       "      <td>Spring</td>\n",
       "      <td>3.15</td>\n",
       "      <td>0</td>\n",
       "      <td>2014-01-14 23:48:12</td>\n",
       "      <td>SK Gaming</td>\n",
       "      <td>Unknown_champion</td>\n",
       "      <td>Unknown_champion</td>\n",
       "      <td>...</td>\n",
       "      <td>Kerp</td>\n",
       "      <td>Jree</td>\n",
       "      <td>Kev1n</td>\n",
       "      <td>0</td>\n",
       "      <td>0.5</td>\n",
       "      <td>0.5</td>\n",
       "      <td>0</td>\n",
       "      <td>0</td>\n",
       "      <td>0</td>\n",
       "      <td>0</td>\n",
       "    </tr>\n",
       "  </tbody>\n",
       "</table>\n",
       "<p>5 rows × 46 columns</p>\n",
       "</div>"
      ],
      "text/plain": [
       "        gameid  league  year   split  patch  playoffs                 date  \\\n",
       "0     TRLH3/33  EU LCS  2014  Spring   3.15         0  2014-01-14 17:52:02   \n",
       "1     TRLH3/44  EU LCS  2014  Spring   3.15         0  2014-01-14 19:16:29   \n",
       "2     TRLH3/76  EU LCS  2014  Spring   3.15         0  2014-01-14 21:28:45   \n",
       "3     TRLH3/85  EU LCS  2014  Spring   3.15         0  2014-01-14 22:37:18   \n",
       "4  TRLH3/10072  EU LCS  2014  Spring   3.15         0  2014-01-14 23:48:12   \n",
       "\n",
       "           blue_team   blue_team_pick1   blue_team_pick2  ... red_mid_player  \\\n",
       "0             Fnatic  Unknown_champion  Unknown_champion  ...       Alex Ich   \n",
       "1  Copenhagen Wolves  Unknown_champion  Unknown_champion  ...        Froggen   \n",
       "2           Alliance  Unknown_champion  Unknown_champion  ...          xPeke   \n",
       "3      Gambit Gaming  Unknown_champion  Unknown_champion  ...        cowTard   \n",
       "4          SK Gaming  Unknown_champion  Unknown_champion  ...           Kerp   \n",
       "\n",
       "  red_supp_player red_top_player is_blue_winner blue_team_winrate  \\\n",
       "0          Edward         Darien              1               0.5   \n",
       "1            Nyph          Wickd              1               0.5   \n",
       "2      YellOwStaR           sOAZ              0               0.0   \n",
       "3       Unlimited      YoungBuck              1               0.0   \n",
       "4            Jree          Kev1n              0               0.5   \n",
       "\n",
       "  red_team_winrate blue_team_games_played red_team_games_played blue_H2H_red  \\\n",
       "0              0.5                      0                     0            0   \n",
       "1              0.5                      0                     0            0   \n",
       "2              1.0                      1                     1            0   \n",
       "3              1.0                      1                     1            0   \n",
       "4              0.5                      0                     0            0   \n",
       "\n",
       "  red_H2H_blue  \n",
       "0            0  \n",
       "1            0  \n",
       "2            0  \n",
       "3            0  \n",
       "4            0  \n",
       "\n",
       "[5 rows x 46 columns]"
      ]
     },
     "execution_count": 25,
     "metadata": {},
     "output_type": "execute_result"
    }
   ],
   "source": [
    "processed_df.head()"
   ]
  },
  {
   "cell_type": "markdown",
   "id": "0f6bae5b",
   "metadata": {},
   "source": [
    "## Pre-Process"
   ]
  },
  {
   "cell_type": "markdown",
   "id": "2d97b2ea",
   "metadata": {},
   "source": [
    "Let's check the unique values for each feature"
   ]
  },
  {
   "cell_type": "code",
   "execution_count": 23,
   "id": "5579a5b2",
   "metadata": {},
   "outputs": [
    {
     "data": {
      "text/plain": [
       "gameid                    80004\n",
       "league                      116\n",
       "year                         12\n",
       "split                        53\n",
       "patch                       244\n",
       "playoffs                      2\n",
       "date                      79850\n",
       "blue_team                  1851\n",
       "blue_team_pick1             162\n",
       "blue_team_pick2             169\n",
       "blue_team_pick3             169\n",
       "blue_team_pick4             171\n",
       "blue_team_pick5             170\n",
       "blue_team_ban1              170\n",
       "blue_team_ban2              169\n",
       "blue_team_ban3              169\n",
       "blue_team_ban4              169\n",
       "blue_team_ban5              170\n",
       "red_team                   1857\n",
       "red_team_pick1              165\n",
       "red_team_pick2              167\n",
       "red_team_pick3              170\n",
       "red_team_pick4              170\n",
       "red_team_pick5              171\n",
       "red_team_ban1               170\n",
       "red_team_ban2               170\n",
       "red_team_ban3               170\n",
       "red_team_ban4               171\n",
       "red_team_ban5               171\n",
       "blue_bot_player            2273\n",
       "blue_jgl_player            2336\n",
       "blue_mid_player            2256\n",
       "blue_supp_player           2348\n",
       "blue_top_player            2244\n",
       "red_bot_player             2285\n",
       "red_jgl_player             2334\n",
       "red_mid_player             2243\n",
       "red_supp_player            2373\n",
       "red_top_player             2294\n",
       "is_blue_winner                2\n",
       "blue_team_winrate         15632\n",
       "red_team_winrate          15510\n",
       "blue_team_games_played     1048\n",
       "red_team_games_played      1042\n",
       "blue_H2H_red                 35\n",
       "red_H2H_blue                 37\n",
       "dtype: int64"
      ]
     },
     "execution_count": 23,
     "metadata": {},
     "output_type": "execute_result"
    }
   ],
   "source": [
    "processed_df.nunique()"
   ]
  }
 ],
 "metadata": {
  "kernelspec": {
   "display_name": "Python 3",
   "language": "python",
   "name": "python3"
  },
  "language_info": {
   "codemirror_mode": {
    "name": "ipython",
    "version": 3
   },
   "file_extension": ".py",
   "mimetype": "text/x-python",
   "name": "python",
   "nbconvert_exporter": "python",
   "pygments_lexer": "ipython3",
   "version": "3.12.3"
  }
 },
 "nbformat": 4,
 "nbformat_minor": 5
}
